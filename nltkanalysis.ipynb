{
 "cells": [
  {
   "cell_type": "code",
   "execution_count": 38,
   "metadata": {
    "collapsed": true
   },
   "outputs": [],
   "source": [
    "# --- IMPORTS ---\n",
    "import nltk\n",
    "import random\n",
    "from nltk.classify.scikitlearn import SklearnClassifier\n",
    "import pickle\n",
    "from sklearn.naive_bayes import MultinomialNB, BernoulliNB\n",
    "from sklearn.linear_model import LogisticRegression, SGDClassifier\n",
    "from sklearn.svm import SVC, LinearSVC, NuSVC\n",
    "from nltk.classify import ClassifierI\n",
    "from statistics import mode\n",
    "from nltk.tokenize import word_tokenize\n",
    "import re\n",
    "import os"
   ]
  },
  {
   "cell_type": "code",
   "execution_count": 39,
   "metadata": {
    "collapsed": true
   },
   "outputs": [],
   "source": [
    "# open each file in directory\n",
    "files_pos = os.listdir('pos')\n",
    "files_pos = [open('pos/'+f, 'r').read() for f in files_pos]\n",
    "files_neg = os.listdir('neg')\n",
    "files_neg = [open('neg/'+f, 'r').read() for f in files_neg]"
   ]
  },
  {
   "cell_type": "code",
   "execution_count": 40,
   "metadata": {
    "collapsed": true
   },
   "outputs": [],
   "source": [
    "# empty lists for all word strings and document sorting tuples\n",
    "all_words = []\n",
    "documents = []\n",
    "\n",
    "# --- IMPORTS ---\n",
    "from nltk.corpus import stopwords\n",
    "from nltk.corpus import wordnet\n",
    "import re\n",
    "\n",
    "# stopwords and word types (adjectives, nouns, adverbs)\n",
    "stopwords = list(set(stopwords.words('english')))\n",
    "wordtypes = [\"J\", \"N\", \"R\"]"
   ]
  },
  {
   "cell_type": "code",
   "execution_count": 41,
   "metadata": {
    "collapsed": true
   },
   "outputs": [],
   "source": [
    "for p in files_pos:\n",
    "    \n",
    "    # create a list of tuples where the first element of each tuple is the file name, the second element is the label \"pos\"\n",
    "    documents.append( (p, \"pos\") )\n",
    "    \n",
    "    # remove punctuation\n",
    "    cleaned = re.sub(r'[^(a-zA-Z)\\s]',' ', p)\n",
    "    \n",
    "    # tokenize contents of pos posts\n",
    "    tokenized = word_tokenize(cleaned)\n",
    "    \n",
    "    # remove stopwords \n",
    "    stopped = [w for w in tokenized if not w in stopwords]\n",
    "    \n",
    "    # tags type of word for each word\n",
    "    pos = nltk.pos_tag(stopped)\n",
    "    \n",
    "    # make a list of all words identified as adjectives, nouns, or adverbs\n",
    "    for w in pos:\n",
    "        if w[1][0] in wordtypes:\n",
    "            all_words.append(w[0].lower())"
   ]
  },
  {
   "cell_type": "code",
   "execution_count": 42,
   "metadata": {
    "collapsed": true
   },
   "outputs": [],
   "source": [
    "for p in files_neg:\n",
    "    # create a list of tuples where the first element of each tuple is the file name, the second element is the label \"neg\"\n",
    "    documents.append( (p, \"neg\") )\n",
    "    \n",
    "    # remove punctuation\n",
    "    cleaned = re.sub(r'[^(a-zA-Z)\\s]',' ', p)\n",
    "    \n",
    "    # tokenize contents of neg posts\n",
    "    tokenized = word_tokenize(cleaned)\n",
    "    \n",
    "    # remove stopwords \n",
    "    stopped = [w for w in tokenized if not w in stopwords]\n",
    "    \n",
    "    # tags type of word for each word\n",
    "    neg = nltk.pos_tag(stopped)\n",
    "    \n",
    "    # make a list of all words identified as adjectives, nouns, or adverbs\n",
    "    for w in neg:\n",
    "        if w[1][0] in wordtypes:\n",
    "            all_words.append(w[0].lower())"
   ]
  },
  {
   "cell_type": "code",
   "execution_count": 43,
   "metadata": {},
   "outputs": [
    {
     "name": "stdout",
     "output_type": "stream",
     "text": [
      "['someone', 'recovery', 'certain', 'way', 'mean', 'needs', 'friends', 'your', 'body', 'honor', 'trust', 'base', 'plans', 'blogs', 'never', 'calorie', 'goal', 'meal', 'plan', 'whilst', 'realistic', 'knowing', 'much', 'eat', 'full', 'team', 'great', 'cool', 'almost', 'new', 'years', 'lot', 'people', 'resolution', 'weight', 'really', 'good', 'help', 'world', 'better', 'place', 'person', 'year', 'please', 'smaller', 'something', 'brings', 'instead', 'fatphobia', 'support', 'industry', 'profits', 'insecurities', 'unfollow', 'thinspo', 'fat', 'negative', 'accounts', 'hungry', 'stop', 'content', 'food', 'self', 'talk', 'positive', 'accountsor', 'maybe', 'compliment', 'often', 'away', 'compliments', 'send', 'kind', 'message', 'day', 'need', 'comments', 'languagethere', 'resolutions', 'influence', 'outside', 'thinking', 'life', 'unhappy', 'many', 'times', 'things', 'smile', 'mirror', 'skin', 'empty', 'space', 'nights', 'torn', 'apart', 'enough', 'heart', 'felt', 'wrong', 'terrible', 'happy', 'take', 'care', 'deserve', 'okay', 'moment', 'think', 'chance', 'fully', 'happier', 'feels', 'messages', 'eating', 'disorder', 'disclaimer', 'professional', 'therapist', 'simply', 'experience', 'ed', 'strong', 'alive', 'matter', 'period', 'specific', 'amount', 'mental', 'reason', 'worse', 'bad', 'valid', 'no', 'what', 'sick', 'long', 'nonono', 'whenever', 'disorders', 'time', 'officially', 'requirement', 'soon', 'behaviors', 'started', 'weeks', 'ago', 'doctor', 'underweight', 'fuck', 'anyone', 'true', 'throughout', 'whole', 'mentally', 'horrible', 'doctors', 'psychologists', 'proven', 'still', 'even', 'one', 'rules', 'don', 't', 'mistakes', 'failures', 'hurt', 'nothing', 'amazing', 'characteristics', 'recover', 'passions', 'everything', 'scary', 'hard', 'worst', 'fears', 'initial', 'hurdle', 'start', 'physically', 'easier', 'free', 'field', 'wildflowers', 'want', 'face', 'pain', 'trauma', 'use', 'skill', 'numb', 'will', 'becomes', 'deal', 'less', 'yes', 'fix', 'make', 'temporarily', 'always', 'already', 'relapses', 'but', 'not', 'progress', 'speed', 'bump', 'road', 'block', 'miss', 'anything', 'last', 'all', 'calories', 'enjoy', 'destroy', 'miserable', 'sad', 'skinny', 'equal', 'ice', 'cream', 'enjoying', 'taste', 'chocolate', 'being', 'able', 'google', 'menu', 'single', 'night', 'constantly', 'failure', 'loser', 'ever', 'punishment', 'na', 'beautiful', 'you', 'possible', 'option', 'damage', 'ur', 'emotional', 'physical', 'well', 'u', 'gain', 'so', 'look', 'reconsider', 'piece', 'cake', 'extra', 'dinner', 'problems', 'madness', 'bones', 'let', 'try', 'flaws', 'remind', 'anorexic', 'stronger', 'gon', 'glad', 'give', 'exercise', 'celebration', 'eatena', 'compensate', 'lose', 'process', 'sometimes', 'realizations', 'finally', 'brain', 'huh', 'actually', 'painful', 'important', 'breakdowns', 'lead', 'national', 'awareness', 'week', 'picture', 'pretty', 'recent', 'toned', 'abs', 'also', 'healthy', 'fit', 'home', 'college', 'energy', 'get', 'anymore', 'alone', 'work', 'lbs', 'several', 'months', 'properly', 'weigh', 'idea', 'stomach', 'hate', 'cute', 'rolls', 'society', 'y', 'today', 'snack', 'right', 'folks', 'completely', 'unable', 'decide', 'apple', 'boom', 'pr', 'gressss', 'veganism', 'routine', 'common', 'standard', 'bed', 'sweets', 'chips', 'foods', 'unhealthy', 'vegans', 'vegetarians', 'works', 'best', 'end', 'story', 'diet', 'bikini', 'mechanism', 'cope', 'depression', 'outwardly', 'inner', 'parents', 'dad', 'obsession', 'perfect', 'immediate', 'effect', 'harm', 'permanent', 'scars', 'abusive', 'behaviour', 'result', 'illness', 'sexually', 'stay', 'appetite', 'pleasure', 'model', 'proana', 'site', 'lonely', 'girls', 'class', 'attract', 'senior', 'guys', 'size', 'xs', 'jeans', 'mother', 'cry', 'genes', 'ocd', 'gender', 'dysphoria', 'death', 'longer', 'fast', 'terribly', 'live', 'feel', 'guilty', 'point', 'suicide', 'disappear', 'scare', 'everyone', 'every', 'struggles', 'problem', 'become', 'ultimately', 'sicker', 'summer', 'first', 'treatment', 'program', 'definitely', 'easy', 'perfectionist', 'incredibly', 'book', 'career', 'however', 'achieve', 'goals', 'tomorrows', 'dreams', 'lovin', 'im', 'encourage', 'join', 'cant', 'ily', 'anti', 'none', 'hell', 'decade', 'suffer', 'consequences', 'correctly', 'be', 'desperately', 'now', 'fight', 'fear', 'friend', 'especially', 'just', 'shake', 'fall', 'love', 'highest', 'serious', 'seriously', 'happiness', 'nature', 'throw', 'damn', 'tears', 'number', 'boys', 'worth', 'stupid', 'f', 'ing', 'fearif', 'half', 'nourish', 'untouchable', 'embrace', 'discomfort', 'unrestricted', 'perspective', 'wounds', 'little', 'voice', 'head', 'yet', 'rule', 'imperfect', 'stuck', 'meseeing', 'instagram', 'freely', 'pizza', 'fruits', 'veggies', 'real', 'it', 'tells', 'back', 'proof', 'sure', 'post', 'salads', 'smoothies', 'mcdonalds', 'unworthy', 'symptoms', 'frequent', 'do', 'osfed', 'dangerous', 'untreated', 'lies', 'human', 'lil', 'sunburn', 'weather', 'feeling', 'confident', 'this', 'and', 'fruit', 'honestly', 'smoothie', 'cook', 'cares', 'hair', 'mood', 'benefits', 'least', 'portions', 'theyre', 'expensive', 'manage', 'warrior', 'forget', 'willingly', 'fun', 'fuel', 'fire', 'destruction', 'vulnerability', 'logical', 'dead', 'fad', 'trial', 'intention', 'believe', 'beat', 'hardest', 'thing', 'hear', 'oh', 'odd', 'emotions', 'thoughts', 'express', 'fought', 'absolutely', 'moments', 'significant', 'reality', 'how', 'prosperous', 'es', 'old', 'ways', 'perfectionism', 'anxiety', 'bloom', 'affirmations', 'badass', 'resilient', 'opinion', 'others', 'mind', 'ready', 'rid', 'engage', 'hairrecovery', 'opportunities', 'warm', 'ability', 'concentrate', 'read', 'favourite', 'novel', 'sit', 'film', 'birthday', 'freedom', 'colour', 'rather', 'restrict', 'tomorrow', 'fact', 'solve', 'young', 'poor', 'images', 'healthier', 'run', 'couple', 'engaging', 'habits', 'bloggers', 'journalists', 'voices', 'lifetime', 'reasonable', 'amounts', 'heavily', 'shame', 'living', 'soul', 'shape', 'goodness', 'reading', 'gentle', 'reminder', 'friendly', 'wonderful', 'crap', 'treat', 'smart', 'slice', 'bar', 'hold', 'reins', 'somebody', 'else', 'ahold', 'wisely', 'far', 'big', 'impact', 'tore', 'walls', 'nation', 'major', 'detail', 'charge', 'late', 'negativity', 'isn', 'power', 'advantage', 'selfish', 'aspect', 'precious', 'control', 'ariana', 'anorexia', 'days', 'impossible', 'slowly', 'a', 'second', 'higher', 'previously', 'therapy', 'meals', 'snacks', 'restriction', 'excercise', 'here', 'later', 'symptom', 'allow', 'scale', 'define', 'value', 'inherently', 'worthy', 'waiting', 'learn', 'explanation', 'guilt', 'promise', 'listen', 'nobody', 'part', 'sooner', 'wear', 'tight', 'small', 'clothes', 'tiny', 'inpatient', 'bin', 'charity', 'survival', 'nice', 'permission', 'been', 'insecure', 'lately', 'participate', 'selfie', 'special', 'ck', 'shoutout', 'taylorswift', 'nike', 'leggings', 'photo', 'overnight', 'oats', 'different', 'organic', 'toppings', 'toast', 'doughnut', 'measure', 'normal', 'hospital', 'honest', 'gross', 'photos', 'battle', 'private', 'clean', 'raw', 'til', 'bloody', 'urge', 'purge', 'honey', 'vegetables', 'japanese', 'virgins', 'them', 'reactive', 'luck', 'bitches', 'recognition', 'flat', 'll', 'like', 'ugly', 'they', 'are', 'panic', 'attacks', 'constant', 'next', 'toilet', 'bowl', 'stick', 'kitchen', 'binge', 'mirrors', 'step', 'scales', 'checking', 'everyday', 'soothe', 'tell', 'nicest', 'outfit', 'breakfast', 'ignore', 'brave', 'god', 'crazy', 'wish', 'job', 'proud', 'hummus', 'avocado', 'wrap', 'pesto', 'pasta', 'art', 'thin', 'ask', 'gp', 'school', 'counsellor', 'helpline', 'family', 'aroung', 'ive', 'genuinely', 'suddenly', 'dark', 'hole', 'climb', 'angry', 'frustrated', 'beating', 'hope', 'know', 'slip', 'erase', 'reach', 'own', 'exactly', 'goodbye', 'explains', 'absence', 'currently', 'mindset', 'youtuber', 'jen', 'brett', 'literally', 'channel', 'mostly', 'motivation', 'posts', 'breaks', 'obsessed', 'counting', 'entire', 'distracted', 'voluntarily', 'chose', 'route', 'possibly', 'grave', 'sole', 'finals', 'image', 'issues', 'upon', 'intuitive', 'gotten', 'relationship', 'go', 'cycle', 'actual', 'exhausting', 'social', 'media', 'platforms', 'set', 'backs', 'community', 'jail', 'lmao', 'spent', 'vegan', 'bars', 'cookies', 'fridge', 'supportive', 'members', 'blame', 'fault', 'tube', 'ill', 'hot', 'sudden', 'huge', 'disgusting', 'obviously', 'obvious', 'sickness', 'manifests', 'deeper', 'middle', 'clear', 'ones', 'breath', 'majority', 'question', 'breathe', 'countless', 'quiet', 'around', 'deep', 'sucks', 'struggle', 'immensely', 'uncomfortable', 'understand', 'sake', 'positivity', 'perfection', 'gracefully', 'ashes', 'morning', 'flames', 'healing', 'linear', 'hunger', 'intuitively', 'likes', 'fighting', 'open', 'scariest', 'growth', 'acceptance', 'towards', 'reluctance', 'judgement', 'blind', 'choose', 'favorites', 'age', 'race', 'religion', 'etc', 'undoubtedly', 'actively', 'daily', 'basis', 'strength', 'tougher', 'come', 'contact', 'tumblr', 'act', 'suicidal', 'dumb', 'bathroom', 'can', 'shorts', 'awesome', 'lunch', 'awkward', 'fantastic', 'fine', 'residential', 'stuff', 'keeps', 'eventually', 'excuses', 'comfort', 'zone', 'surely', 'hand', 'staying', 'endless', 'leaves', 'monotonous', 'cycles', 'unbreakable', 'note', 'view', 'filter', 'truth', 'changes', 'imperfections', 'average', 'pay', 'attention', 'theres', 'notice', 'ten', 'pounds', 'due', 'preoccupation', 'meet', 'traits', 'pick', 'order', 'remember', 'tries', 'judge', 'lives', 'whatsoever', 'lots', 'doable', 'pills', 'veggie', 'culture', 'yourself', 'marks', 'ups', 'downs', 'yo', 'shit', 'crushes', 'dont', 'bitch', 'author', 'fresh', 'brownie', 'very', 'simple', 'identity', 'expectations', 'visibly', 'mechanisms', 'tool', 'curveball', 'stability', 'safety', 'sense', 'predictability', 'messy', 'unpredictable', 'safe', 'isolated', 'sustainable', 'enemies', 'helpful', 'seduce', 'confidence', 'the', 'roof', 'paint', 'animals', 'pregnant', 'chokes', 'entirely', 'unique', 'thats', 'false', 'accomplishment', 'feelings', 'fulfillment', 'asleep', 'psa', 'purpose', 'grow', 'occupy', 'list']\n"
     ]
    }
   ],
   "source": [
    "# create a frequency distribution of each word\n",
    "all_words = nltk.FreqDist(all_words)\n",
    "\n",
    "# list the 1000 most frequent words\n",
    "word_features = list(all_words.keys())[:1000]\n",
    "\n",
    "print(word_features)"
   ]
  },
  {
   "cell_type": "code",
   "execution_count": 44,
   "metadata": {
    "collapsed": true
   },
   "outputs": [],
   "source": [
    "# create feature for each of the 1000 most frequent words\n",
    "def find_features(document):\n",
    "    words = word_tokenize(document)\n",
    "    features = {}\n",
    "    for w in word_features:\n",
    "        features[w] = (w in words)\n",
    "    return features\n",
    "\n",
    "# create feature set for each posts determining if the post contains the feature (word) or not\n",
    "featuresets = [(find_features(post), category) for (post, category) in documents]"
   ]
  },
  {
   "cell_type": "code",
   "execution_count": 45,
   "metadata": {},
   "outputs": [
    {
     "name": "stdout",
     "output_type": "stream",
     "text": [
      "[({'someone': True, 'recovery': True, 'certain': True, 'way': True, 'mean': True, 'needs': True, 'friends': True, 'your': True, 'body': True, 'honor': True, 'trust': True, 'base': False, 'plans': False, 'blogs': False, 'never': False, 'calorie': False, 'goal': False, 'meal': False, 'plan': False, 'whilst': False, 'realistic': False, 'knowing': False, 'much': False, 'eat': False, 'full': False, 'team': False, 'great': False, 'cool': False, 'almost': False, 'new': False, 'years': False, 'lot': False, 'people': False, 'resolution': False, 'weight': False, 'really': False, 'good': False, 'help': False, 'world': False, 'better': False, 'place': False, 'person': False, 'year': False, 'please': True, 'smaller': False, 'something': False, 'brings': False, 'instead': False, 'fatphobia': False, 'support': False, 'industry': False, 'profits': False, 'insecurities': False, 'unfollow': False, 'thinspo': False, 'fat': False, 'negative': False, 'accounts': False, 'hungry': False, 'stop': False, 'content': False, 'food': False, 'self': False, 'talk': False, 'positive': False, 'accountsor': False, 'maybe': False, 'compliment': False, 'often': False, 'away': False, 'compliments': False, 'send': False, 'kind': False, 'message': False, 'day': False, 'need': False, 'comments': False, 'languagethere': False, 'resolutions': False, 'influence': False, 'outside': False, 'thinking': False, 'life': False, 'unhappy': False, 'many': False, 'times': False, 'things': False, 'smile': False, 'mirror': False, 'skin': False, 'empty': False, 'space': False, 'nights': False, 'torn': False, 'apart': False, 'enough': False, 'heart': False, 'felt': False, 'wrong': False, 'terrible': False, 'happy': False, 'take': False, 'care': False, 'deserve': False, 'okay': False, 'moment': False, 'think': False, 'chance': False, 'fully': False, 'happier': False, 'feels': False, 'messages': False, 'eating': False, 'disorder': False, 'disclaimer': False, 'professional': False, 'therapist': False, 'simply': False, 'experience': False, 'ed': False, 'strong': False, 'alive': False, 'matter': False, 'period': False, 'specific': False, 'amount': False, 'mental': False, 'reason': False, 'worse': False, 'bad': False, 'valid': False, 'no': False, 'what': False, 'sick': False, 'long': False, 'nonono': False, 'whenever': False, 'disorders': False, 'time': False, 'officially': False, 'requirement': False, 'soon': False, 'behaviors': False, 'started': False, 'weeks': False, 'ago': False, 'doctor': False, 'underweight': False, 'fuck': False, 'anyone': False, 'true': False, 'throughout': False, 'whole': False, 'mentally': False, 'horrible': False, 'doctors': False, 'psychologists': False, 'proven': False, 'still': False, 'even': False, 'one': False, 'rules': False, 'don': False, 't': False, 'mistakes': False, 'failures': False, 'hurt': False, 'nothing': False, 'amazing': False, 'characteristics': False, 'recover': False, 'passions': False, 'everything': False, 'scary': False, 'hard': False, 'worst': False, 'fears': False, 'initial': False, 'hurdle': False, 'start': False, 'physically': False, 'easier': False, 'free': False, 'field': False, 'wildflowers': False, 'want': False, 'face': False, 'pain': False, 'trauma': False, 'use': False, 'skill': False, 'numb': False, 'will': False, 'becomes': False, 'deal': False, 'less': False, 'yes': False, 'fix': False, 'make': False, 'temporarily': False, 'always': False, 'already': False, 'relapses': False, 'but': False, 'not': True, 'progress': False, 'speed': False, 'bump': False, 'road': False, 'block': False, 'miss': False, 'anything': False, 'last': False, 'all': False, 'calories': False, 'enjoy': False, 'destroy': False, 'miserable': False, 'sad': False, 'skinny': False, 'equal': False, 'ice': False, 'cream': False, 'enjoying': False, 'taste': False, 'chocolate': False, 'being': False, 'able': False, 'google': False, 'menu': False, 'single': False, 'night': False, 'constantly': False, 'failure': False, 'loser': False, 'ever': False, 'punishment': False, 'na': False, 'beautiful': False, 'you': False, 'possible': False, 'option': False, 'damage': False, 'ur': False, 'emotional': False, 'physical': False, 'well': False, 'u': False, 'gain': False, 'so': True, 'look': True, 'reconsider': False, 'piece': False, 'cake': False, 'extra': False, 'dinner': False, 'problems': False, 'madness': False, 'bones': False, 'let': False, 'try': False, 'flaws': False, 'remind': False, 'anorexic': False, 'stronger': False, 'gon': False, 'glad': False, 'give': False, 'exercise': False, 'celebration': False, 'eatena': False, 'compensate': False, 'lose': False, 'process': False, 'sometimes': False, 'realizations': False, 'finally': False, 'brain': False, 'huh': False, 'actually': False, 'painful': False, 'important': False, 'breakdowns': False, 'lead': False, 'national': False, 'awareness': False, 'week': False, 'picture': False, 'pretty': False, 'recent': False, 'toned': False, 'abs': False, 'also': False, 'healthy': False, 'fit': False, 'home': False, 'college': False, 'energy': False, 'get': False, 'anymore': False, 'alone': False, 'work': False, 'lbs': False, 'several': False, 'months': False, 'properly': False, 'weigh': False, 'idea': False, 'stomach': False, 'hate': False, 'cute': False, 'rolls': False, 'society': False, 'y': False, 'today': False, 'snack': False, 'right': False, 'folks': False, 'completely': False, 'unable': False, 'decide': False, 'apple': False, 'boom': False, 'pr': False, 'gressss': False, 'veganism': False, 'routine': False, 'common': False, 'standard': False, 'bed': False, 'sweets': False, 'chips': False, 'foods': False, 'unhealthy': False, 'vegans': False, 'vegetarians': False, 'works': False, 'best': False, 'end': False, 'story': False, 'diet': False, 'bikini': False, 'mechanism': False, 'cope': False, 'depression': False, 'outwardly': False, 'inner': False, 'parents': False, 'dad': False, 'obsession': False, 'perfect': False, 'immediate': False, 'effect': False, 'harm': False, 'permanent': False, 'scars': False, 'abusive': False, 'behaviour': False, 'result': False, 'illness': False, 'sexually': False, 'stay': False, 'appetite': False, 'pleasure': False, 'model': False, 'proana': False, 'site': False, 'lonely': False, 'girls': False, 'class': False, 'attract': False, 'senior': False, 'guys': False, 'size': False, 'xs': False, 'jeans': False, 'mother': False, 'cry': False, 'genes': False, 'ocd': False, 'gender': False, 'dysphoria': False, 'death': False, 'longer': False, 'fast': False, 'terribly': False, 'live': False, 'feel': False, 'guilty': False, 'point': False, 'suicide': False, 'disappear': False, 'scare': False, 'everyone': False, 'every': False, 'struggles': False, 'problem': False, 'become': False, 'ultimately': False, 'sicker': False, 'summer': False, 'first': False, 'treatment': False, 'program': False, 'definitely': False, 'easy': False, 'perfectionist': False, 'incredibly': False, 'book': False, 'career': False, 'however': False, 'achieve': False, 'goals': False, 'tomorrows': False, 'dreams': False, 'lovin': False, 'im': False, 'encourage': False, 'join': False, 'cant': False, 'ily': False, 'anti': False, 'none': False, 'hell': False, 'decade': False, 'suffer': False, 'consequences': False, 'correctly': False, 'be': False, 'desperately': False, 'now': False, 'fight': False, 'fear': False, 'friend': False, 'especially': False, 'just': True, 'shake': False, 'fall': False, 'love': False, 'highest': False, 'serious': False, 'seriously': False, 'happiness': False, 'nature': False, 'throw': False, 'damn': False, 'tears': False, 'number': False, 'boys': False, 'worth': False, 'stupid': False, 'f': False, 'ing': False, 'fearif': False, 'half': False, 'nourish': False, 'untouchable': False, 'embrace': False, 'discomfort': False, 'unrestricted': False, 'perspective': False, 'wounds': False, 'little': False, 'voice': False, 'head': False, 'yet': False, 'rule': False, 'imperfect': False, 'stuck': False, 'meseeing': False, 'instagram': False, 'freely': False, 'pizza': False, 'fruits': False, 'veggies': False, 'real': False, 'it': True, 'tells': False, 'back': False, 'proof': False, 'sure': False, 'post': False, 'salads': False, 'smoothies': False, 'mcdonalds': False, 'unworthy': False, 'symptoms': False, 'frequent': False, 'do': False, 'osfed': False, 'dangerous': False, 'untreated': False, 'lies': False, 'human': False, 'lil': False, 'sunburn': False, 'weather': False, 'feeling': False, 'confident': False, 'this': False, 'and': False, 'fruit': False, 'honestly': False, 'smoothie': False, 'cook': False, 'cares': False, 'hair': False, 'mood': False, 'benefits': False, 'least': False, 'portions': False, 'theyre': False, 'expensive': False, 'manage': False, 'warrior': False, 'forget': False, 'willingly': False, 'fun': False, 'fuel': False, 'fire': False, 'destruction': False, 'vulnerability': False, 'logical': False, 'dead': False, 'fad': False, 'trial': False, 'intention': False, 'believe': False, 'beat': False, 'hardest': False, 'thing': False, 'hear': False, 'oh': False, 'odd': False, 'emotions': False, 'thoughts': False, 'express': False, 'fought': False, 'absolutely': False, 'moments': False, 'significant': False, 'reality': False, 'how': False, 'prosperous': False, 'es': False, 'old': False, 'ways': False, 'perfectionism': False, 'anxiety': False, 'bloom': False, 'affirmations': False, 'badass': False, 'resilient': False, 'opinion': False, 'others': False, 'mind': False, 'ready': False, 'rid': False, 'engage': False, 'hairrecovery': False, 'opportunities': False, 'warm': False, 'ability': False, 'concentrate': False, 'read': False, 'favourite': False, 'novel': False, 'sit': False, 'film': False, 'birthday': False, 'freedom': False, 'colour': False, 'rather': False, 'restrict': False, 'tomorrow': False, 'fact': False, 'solve': False, 'young': False, 'poor': False, 'images': False, 'healthier': False, 'run': False, 'couple': False, 'engaging': False, 'habits': False, 'bloggers': False, 'journalists': False, 'voices': False, 'lifetime': False, 'reasonable': False, 'amounts': False, 'heavily': False, 'shame': False, 'living': False, 'soul': False, 'shape': False, 'goodness': False, 'reading': False, 'gentle': False, 'reminder': False, 'friendly': False, 'wonderful': False, 'crap': False, 'treat': False, 'smart': False, 'slice': False, 'bar': False, 'hold': False, 'reins': False, 'somebody': False, 'else': False, 'ahold': False, 'wisely': False, 'far': False, 'big': False, 'impact': False, 'tore': False, 'walls': False, 'nation': False, 'major': False, 'detail': False, 'charge': False, 'late': False, 'negativity': False, 'isn': False, 'power': False, 'advantage': False, 'selfish': False, 'aspect': False, 'precious': False, 'control': False, 'ariana': False, 'anorexia': False, 'days': False, 'impossible': False, 'slowly': False, 'a': True, 'second': False, 'higher': False, 'previously': False, 'therapy': False, 'meals': False, 'snacks': False, 'restriction': False, 'excercise': False, 'here': False, 'later': False, 'symptom': False, 'allow': False, 'scale': False, 'define': False, 'value': False, 'inherently': False, 'worthy': False, 'waiting': False, 'learn': False, 'explanation': False, 'guilt': False, 'promise': False, 'listen': True, 'nobody': False, 'part': False, 'sooner': False, 'wear': False, 'tight': False, 'small': False, 'clothes': False, 'tiny': False, 'inpatient': False, 'bin': False, 'charity': False, 'survival': False, 'nice': False, 'permission': False, 'been': False, 'insecure': False, 'lately': False, 'participate': False, 'selfie': False, 'special': False, 'ck': False, 'shoutout': False, 'taylorswift': False, 'nike': False, 'leggings': False, 'photo': False, 'overnight': False, 'oats': False, 'different': False, 'organic': False, 'toppings': False, 'toast': False, 'doughnut': False, 'measure': False, 'normal': False, 'hospital': False, 'honest': False, 'gross': False, 'photos': False, 'battle': False, 'private': False, 'clean': False, 'raw': False, 'til': False, 'bloody': False, 'urge': False, 'purge': False, 'honey': False, 'vegetables': False, 'japanese': False, 'virgins': False, 'them': False, 'reactive': False, 'luck': False, 'bitches': False, 'recognition': False, 'flat': False, 'll': False, 'like': False, 'ugly': False, 'they': False, 'are': False, 'panic': False, 'attacks': False, 'constant': False, 'next': False, 'toilet': False, 'bowl': False, 'stick': False, 'kitchen': False, 'binge': False, 'mirrors': False, 'step': False, 'scales': False, 'checking': False, 'everyday': False, 'soothe': False, 'tell': False, 'nicest': False, 'outfit': False, 'breakfast': False, 'ignore': False, 'brave': False, 'god': False, 'crazy': False, 'wish': False, 'job': False, 'proud': False, 'hummus': False, 'avocado': False, 'wrap': False, 'pesto': False, 'pasta': False, 'art': False, 'thin': False, 'ask': False, 'gp': False, 'school': False, 'counsellor': False, 'helpline': False, 'family': False, 'aroung': False, 'ive': False, 'genuinely': False, 'suddenly': False, 'dark': False, 'hole': False, 'climb': False, 'angry': False, 'frustrated': False, 'beating': False, 'hope': False, 'know': False, 'slip': False, 'erase': False, 'reach': False, 'own': False, 'exactly': False, 'goodbye': False, 'explains': False, 'absence': False, 'currently': False, 'mindset': False, 'youtuber': False, 'jen': False, 'brett': False, 'literally': False, 'channel': False, 'mostly': False, 'motivation': False, 'posts': False, 'breaks': False, 'obsessed': False, 'counting': False, 'entire': False, 'distracted': False, 'voluntarily': False, 'chose': False, 'route': False, 'possibly': False, 'grave': False, 'sole': False, 'finals': False, 'image': False, 'issues': False, 'upon': False, 'intuitive': False, 'gotten': False, 'relationship': False, 'go': False, 'cycle': False, 'actual': False, 'exhausting': False, 'social': False, 'media': False, 'platforms': False, 'set': False, 'backs': False, 'community': False, 'jail': False, 'lmao': False, 'spent': False, 'vegan': False, 'bars': False, 'cookies': False, 'fridge': False, 'supportive': False, 'members': False, 'blame': False, 'fault': False, 'tube': False, 'ill': False, 'hot': False, 'sudden': False, 'huge': False, 'disgusting': False, 'obviously': False, 'obvious': False, 'sickness': False, 'manifests': False, 'deeper': False, 'middle': False, 'clear': False, 'ones': False, 'breath': False, 'majority': False, 'question': False, 'breathe': False, 'countless': False, 'quiet': False, 'around': False, 'deep': False, 'sucks': False, 'struggle': False, 'immensely': False, 'uncomfortable': False, 'understand': False, 'sake': False, 'positivity': False, 'perfection': False, 'gracefully': False, 'ashes': False, 'morning': False, 'flames': False, 'healing': False, 'linear': False, 'hunger': False, 'intuitively': False, 'likes': False, 'fighting': False, 'open': False, 'scariest': False, 'growth': False, 'acceptance': False, 'towards': False, 'reluctance': False, 'judgement': False, 'blind': False, 'choose': False, 'favorites': False, 'age': False, 'race': False, 'religion': False, 'etc': False, 'undoubtedly': False, 'actively': False, 'daily': False, 'basis': False, 'strength': False, 'tougher': False, 'come': False, 'contact': False, 'tumblr': False, 'act': False, 'suicidal': False, 'dumb': False, 'bathroom': False, 'can': False, 'shorts': False, 'awesome': False, 'lunch': False, 'awkward': False, 'fantastic': False, 'fine': False, 'residential': False, 'stuff': False, 'keeps': False, 'eventually': False, 'excuses': False, 'comfort': False, 'zone': False, 'surely': False, 'hand': False, 'staying': False, 'endless': False, 'leaves': False, 'monotonous': False, 'cycles': False, 'unbreakable': False, 'note': False, 'view': False, 'filter': False, 'truth': False, 'changes': False, 'imperfections': False, 'average': False, 'pay': False, 'attention': False, 'theres': False, 'notice': False, 'ten': False, 'pounds': False, 'due': False, 'preoccupation': False, 'meet': False, 'traits': False, 'pick': False, 'order': False, 'remember': True, 'tries': False, 'judge': False, 'lives': False, 'whatsoever': False, 'lots': False, 'doable': False, 'pills': False, 'veggie': False, 'culture': False, 'yourself': False, 'marks': False, 'ups': False, 'downs': False, 'yo': False, 'shit': False, 'crushes': False, 'dont': False, 'bitch': False, 'author': False, 'fresh': False, 'brownie': False, 'very': False, 'simple': False, 'identity': False, 'expectations': False, 'visibly': False, 'mechanisms': False, 'tool': False, 'curveball': False, 'stability': False, 'safety': False, 'sense': False, 'predictability': False, 'messy': False, 'unpredictable': False, 'safe': False, 'isolated': False, 'sustainable': False, 'enemies': False, 'helpful': False, 'seduce': False, 'confidence': False, 'the': False, 'roof': False, 'paint': False, 'animals': False, 'pregnant': False, 'chokes': False, 'entirely': False, 'unique': False, 'thats': False, 'false': False, 'accomplishment': False, 'feelings': False, 'fulfillment': False, 'asleep': False, 'psa': False, 'purpose': False, 'grow': False, 'occupy': False, 'list': False}, 'pos')]\n"
     ]
    }
   ],
   "source": [
    "print(featuresets[:1])"
   ]
  },
  {
   "cell_type": "code",
   "execution_count": 48,
   "metadata": {
    "collapsed": true
   },
   "outputs": [],
   "source": [
    "# shuffles documents \n",
    "random.shuffle(featuresets)\n",
    "\n",
    "# creates training and testing set; 750 in training, 250 in testing\n",
    "training_set = featuresets[:750]\n",
    "testing_set = featuresets[750:]"
   ]
  },
  {
   "cell_type": "code",
   "execution_count": 49,
   "metadata": {},
   "outputs": [
    {
     "name": "stdout",
     "output_type": "stream",
     "text": [
      "Classifier accuracy percent: 72.50996015936255\n",
      "Most Informative Features\n",
      "                recovery = True              pos : neg    =     51.1 : 1.0\n",
      "                 deserve = True              pos : neg    =     23.4 : 1.0\n",
      "                 illness = True              pos : neg    =     13.2 : 1.0\n",
      "                disorder = True              pos : neg    =     12.0 : 1.0\n",
      "                 recover = True              pos : neg    =      9.8 : 1.0\n",
      "                 anymore = True              pos : neg    =      8.7 : 1.0\n",
      "                 thinspo = True              neg : pos    =      8.6 : 1.0\n",
      "                   alone = True              pos : neg    =      8.0 : 1.0\n",
      "                    away = True              pos : neg    =      7.9 : 1.0\n",
      "                   years = True              pos : neg    =      7.5 : 1.0\n",
      "                    give = True              pos : neg    =      7.4 : 1.0\n",
      "                   happy = True              pos : neg    =      7.4 : 1.0\n",
      "                   point = True              pos : neg    =      7.4 : 1.0\n",
      "                   binge = True              neg : pos    =      7.3 : 1.0\n",
      "                   wrong = True              pos : neg    =      7.1 : 1.0\n",
      "                   tells = True              pos : neg    =      6.7 : 1.0\n",
      "                  almost = True              pos : neg    =      6.7 : 1.0\n",
      "                     bad = True              pos : neg    =      6.7 : 1.0\n",
      "               important = True              pos : neg    =      6.7 : 1.0\n",
      "                  simply = True              pos : neg    =      6.7 : 1.0\n",
      "                 finally = True              pos : neg    =      6.7 : 1.0\n",
      "               something = True              pos : neg    =      6.7 : 1.0\n",
      "                  skinny = True              neg : pos    =      6.7 : 1.0\n",
      "                    hope = True              pos : neg    =      6.4 : 1.0\n",
      "                reminder = True              pos : neg    =      6.4 : 1.0\n",
      "                   needs = True              pos : neg    =      6.4 : 1.0\n",
      "                   proud = True              pos : neg    =      6.4 : 1.0\n",
      "                    cake = True              pos : neg    =      6.1 : 1.0\n",
      "                    felt = True              pos : neg    =      6.1 : 1.0\n",
      "                   never = True              pos : neg    =      6.0 : 1.0\n",
      "                 someone = True              pos : neg    =      5.9 : 1.0\n",
      "                    live = True              pos : neg    =      5.7 : 1.0\n",
      "                   worth = True              pos : neg    =      5.5 : 1.0\n",
      "                 support = True              pos : neg    =      5.5 : 1.0\n",
      "                  moment = True              pos : neg    =      5.5 : 1.0\n",
      "                   worse = True              pos : neg    =      5.5 : 1.0\n",
      "                    life = True              pos : neg    =      5.4 : 1.0\n",
      "                     isn = True              pos : neg    =      5.0 : 1.0\n",
      "                     own = True              pos : neg    =      4.8 : 1.0\n",
      "                     ago = True              pos : neg    =      4.8 : 1.0\n",
      "                  reason = True              pos : neg    =      4.8 : 1.0\n",
      "                   cream = True              pos : neg    =      4.8 : 1.0\n",
      "                     lbs = True              neg : pos    =      4.8 : 1.0\n",
      "                  better = True              pos : neg    =      4.4 : 1.0\n",
      "                   times = True              pos : neg    =      4.4 : 1.0\n",
      "                  please = True              pos : neg    =      4.4 : 1.0\n",
      "                     try = True              pos : neg    =      4.4 : 1.0\n",
      "                   enjoy = True              pos : neg    =      4.3 : 1.0\n",
      "                  months = True              pos : neg    =      4.3 : 1.0\n",
      "                     yes = True              pos : neg    =      4.2 : 1.0\n",
      "                terrible = True              pos : neg    =      4.2 : 1.0\n",
      "               healthier = True              pos : neg    =      4.2 : 1.0\n",
      "                     ups = True              pos : neg    =      4.2 : 1.0\n",
      "                 reading = True              pos : neg    =      4.2 : 1.0\n",
      "                possible = True              pos : neg    =      4.2 : 1.0\n",
      "                     ill = True              pos : neg    =      4.2 : 1.0\n",
      "                 friends = True              pos : neg    =      4.1 : 1.0\n",
      "                   daily = True              pos : neg    =      4.0 : 1.0\n",
      "                 process = True              pos : neg    =      4.0 : 1.0\n",
      "                  become = True              pos : neg    =      4.0 : 1.0\n",
      "                  easier = True              pos : neg    =      4.0 : 1.0\n",
      "                 amazing = True              pos : neg    =      4.0 : 1.0\n",
      "                    help = True              pos : neg    =      4.0 : 1.0\n",
      "                     fat = True              neg : pos    =      4.0 : 1.0\n",
      "                    fast = True              neg : pos    =      4.0 : 1.0\n",
      "                    love = True              pos : neg    =      3.9 : 1.0\n",
      "                 calorie = True              neg : pos    =      3.8 : 1.0\n",
      "                  energy = True              pos : neg    =      3.8 : 1.0\n",
      "                    mean = True              pos : neg    =      3.7 : 1.0\n",
      "                 perfect = True              pos : neg    =      3.7 : 1.0\n",
      "                    part = True              pos : neg    =      3.7 : 1.0\n",
      "                 message = True              pos : neg    =      3.7 : 1.0\n",
      "                    idea = True              pos : neg    =      3.7 : 1.0\n",
      "                   trust = True              pos : neg    =      3.7 : 1.0\n",
      "                    skin = True              pos : neg    =      3.7 : 1.0\n",
      "             underweight = True              pos : neg    =      3.7 : 1.0\n",
      "                   space = True              pos : neg    =      3.7 : 1.0\n",
      "               sometimes = True              pos : neg    =      3.7 : 1.0\n",
      "                    ever = True              pos : neg    =      3.6 : 1.0\n",
      "                     how = True              pos : neg    =      3.6 : 1.0\n",
      "                  eating = True              pos : neg    =      3.6 : 1.0\n",
      "                   stuck = True              pos : neg    =      3.5 : 1.0\n",
      "                   truth = True              pos : neg    =      3.5 : 1.0\n",
      "                constant = True              pos : neg    =      3.5 : 1.0\n",
      "                 reality = True              pos : neg    =      3.5 : 1.0\n",
      "                  stupid = True              pos : neg    =      3.5 : 1.0\n",
      "                   stuff = True              pos : neg    =      3.5 : 1.0\n",
      "                      ur = True              pos : neg    =      3.5 : 1.0\n",
      "                  guilty = True              pos : neg    =      3.5 : 1.0\n",
      "                anorexia = True              pos : neg    =      3.5 : 1.0\n",
      "                     run = True              pos : neg    =      3.5 : 1.0\n",
      "                     let = True              pos : neg    =      3.5 : 1.0\n",
      "               confident = True              pos : neg    =      3.5 : 1.0\n",
      "              completely = True              pos : neg    =      3.5 : 1.0\n",
      "                     due = True              pos : neg    =      3.5 : 1.0\n",
      "                    okay = True              pos : neg    =      3.5 : 1.0\n",
      "                  little = True              pos : neg    =      3.5 : 1.0\n",
      "                   thing = True              pos : neg    =      3.5 : 1.0\n",
      "               different = True              pos : neg    =      3.4 : 1.0\n",
      "               disorders = True              pos : neg    =      3.4 : 1.0\n"
     ]
    }
   ],
   "source": [
    "# trains NLP with the Naive Bayes Classifier\n",
    "classifier = nltk.NaiveBayesClassifier.train(training_set)\n",
    "print(\"Classifier accuracy percent:\",(nltk.classify.accuracy(classifier, testing_set))*100)\n",
    "classifier.show_most_informative_features(100)"
   ]
  },
  {
   "cell_type": "code",
   "execution_count": null,
   "metadata": {
    "collapsed": true
   },
   "outputs": [],
   "source": []
  }
 ],
 "metadata": {
  "kernelspec": {
   "display_name": "Python 3",
   "language": "python",
   "name": "python3"
  },
  "language_info": {
   "codemirror_mode": {
    "name": "ipython",
    "version": 3
   },
   "file_extension": ".py",
   "mimetype": "text/x-python",
   "name": "python",
   "nbconvert_exporter": "python",
   "pygments_lexer": "ipython3",
   "version": "3.6.7"
  }
 },
 "nbformat": 4,
 "nbformat_minor": 2
}
