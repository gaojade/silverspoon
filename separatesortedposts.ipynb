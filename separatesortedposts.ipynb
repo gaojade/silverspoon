{
 "cells": [
  {
   "cell_type": "code",
   "execution_count": 7,
   "metadata": {
    "collapsed": true
   },
   "outputs": [],
   "source": [
    "# --- IMPORTS ---\n",
    "import os\n",
    "\n",
    "#opens and strips excess whitespace from sorted posts\n",
    "textlist = open(\"pospostssorted.txt\")\n",
    "strippedlist = (s.strip() for s in textlist)\n",
    "cnt = 1\n",
    "# makes directory for pos posts if one does not already exist\n",
    "if not os.path.exists(\"pos\"):\n",
    "    os.mkdir(\"pos\")\n",
    "os.chdir(\"pos\")\n",
    "# creates new txt file for every post in file of sorted posts\n",
    "for item in strippedlist:\n",
    "    filename = \"pospost\" + str(cnt) + \".txt\"\n",
    "    with open(filename, \"w\") as f:\n",
    "        f.write(item)\n",
    "    cnt += 1\n",
    "os.chdir(\"..\")"
   ]
  },
  {
   "cell_type": "code",
   "execution_count": null,
   "metadata": {
    "collapsed": true
   },
   "outputs": [],
   "source": []
  }
 ],
 "metadata": {
  "kernelspec": {
   "display_name": "Python 3",
   "language": "python",
   "name": "python3"
  },
  "language_info": {
   "codemirror_mode": {
    "name": "ipython",
    "version": 3
   },
   "file_extension": ".py",
   "mimetype": "text/x-python",
   "name": "python",
   "nbconvert_exporter": "python",
   "pygments_lexer": "ipython3",
   "version": "3.6.7"
  }
 },
 "nbformat": 4,
 "nbformat_minor": 2
}
