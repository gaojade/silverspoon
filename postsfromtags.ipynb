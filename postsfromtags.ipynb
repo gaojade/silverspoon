{
 "cells": [
  {
   "cell_type": "code",
   "execution_count": 22,
   "metadata": {},
   "outputs": [
    {
     "name": "stdout",
     "output_type": "stream",
     "text": [
      "['eating disorder recovery', 'ed recovery', 'anorexia recovery', 'ana recovery', 'bulimia recovery', 'ednos recovery', 'pro recovery', 'body positivity', 'recovery', 'positive', 'positivity', 'self love', 'self care']\n"
     ]
    }
   ],
   "source": [
    "# opens list of tags associated with pro-recovery (labeled pos) or pro-eating disorder (labeled neg)\n",
    "f = open(\"postags.txt\", \"r\")\n",
    "tagslist = []\n",
    "for tag in f:\n",
    "    tagslist.append(tag.lower().replace('\\n',''))\n",
    "f.close()"
   ]
  },
  {
   "cell_type": "code",
   "execution_count": 23,
   "metadata": {
    "collapsed": true
   },
   "outputs": [],
   "source": [
    "# --- IMPORTS ---\n",
    "from selenium import webdriver\n",
    "from selenium.common.exceptions import NoSuchElementException\n",
    "import time\n",
    "from bs4 import BeautifulSoup\n",
    "import string\n",
    "import nltk\n",
    "\n",
    "#create new file\n",
    "writefile = open(\"posposts.txt\", \"w\")\n",
    "\n",
    "#instantiate webdriver\n",
    "driver = webdriver.Chrome('/Users/lionheart/anaconda3/pkgs/chromedriver-binary-2.38-0/bin/chromedriver-binary')\n",
    "\n",
    "for tag in tagslist:\n",
    "    driver.get('https://www.tumblr.com/search/' + tag)\n",
    "    \n",
    "    # click link to find results, if applicable\n",
    "    try:\n",
    "        link = driver.find_element_by_link_text('View search results')\n",
    "        link.click()\n",
    "    except NoSuchElementException:\n",
    "        pass\n",
    "\n",
    "    # Selenium script for infinite scroll; scrolls down a maximum of 10 times for each tag\n",
    "    lenOfPage = driver.execute_script(\"window.scrollTo(0, document.body.scrollHeight);var lenOfPage=document.body.scrollHeight;return lenOfPage;\")\n",
    "    match=False\n",
    "    counter = 10\n",
    "    while(match==False or counter > 0):\n",
    "        lastCount = lenOfPage\n",
    "        time.sleep(5)\n",
    "        lenOfPage = driver.execute_script(\"window.scrollTo(0, document.body.scrollHeight);var lenOfPage=document.body.scrollHeight;return lenOfPage;\")\n",
    "        if lastCount==lenOfPage:\n",
    "            match=True\n",
    "        counter -= 1\n",
    "\n",
    "    # retrieves source code\n",
    "    source_data = driver.page_source\n",
    "    \n",
    "    soup = BeautifulSoup(source_data, \"html.parser\")\n",
    "    \n",
    "    # retrieves all information contained in the body of the post\n",
    "    posts = soup.findAll(\"div\", {\"class\": \"post_body\"})\n",
    "\n",
    "    # writes every post for each of pos or neg to a file\n",
    "    for x in posts:\n",
    "        posttext = x.text\n",
    "        writefile.write(posttext)\n",
    "        writefile.write(\"\\n\")\n",
    "\n",
    "writefile.close()"
   ]
  },
  {
   "cell_type": "code",
   "execution_count": null,
   "metadata": {
    "collapsed": true
   },
   "outputs": [],
   "source": []
  }
 ],
 "metadata": {
  "kernelspec": {
   "display_name": "Python 3",
   "language": "python",
   "name": "python3"
  },
  "language_info": {
   "codemirror_mode": {
    "name": "ipython",
    "version": 3
   },
   "file_extension": ".py",
   "mimetype": "text/x-python",
   "name": "python",
   "nbconvert_exporter": "python",
   "pygments_lexer": "ipython3",
   "version": "3.6.7"
  }
 },
 "nbformat": 4,
 "nbformat_minor": 2
}
